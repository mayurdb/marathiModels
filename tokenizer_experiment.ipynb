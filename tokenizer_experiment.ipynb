{
 "cells": [
  {
   "cell_type": "raw",
   "id": "df7c6498-548f-4640-aca2-462d0238246e",
   "metadata": {},
   "source": [
    "!wget https://objectstore.e2enetworks.net/ai4b-public-nlu-nlg/indic-corp-frozen-for-the-paper-oct-2022/mr.txt"
   ]
  },
  {
   "cell_type": "raw",
   "id": "5dfc1268-c70b-43e3-b53d-026010251715",
   "metadata": {},
   "source": []
  },
  {
   "cell_type": "code",
   "execution_count": 1,
   "id": "547646b8-8d5c-4f58-8b90-62529479d2a8",
   "metadata": {},
   "outputs": [
    {
     "name": "stdout",
     "output_type": "stream",
     "text": [
      "Successfully wrote the first 50000 lines to ./data/mr_50000.txt.\n"
     ]
    }
   ],
   "source": [
    "# Load the dataset\n",
    "\n",
    "k = 50000\n",
    "input_file_path = './data/mr.txt'\n",
    "output_file_path = f\"./data/mr_{k}.txt\"\n",
    "\n",
    "# Function to read the first k lines from the input file and write them to the output file\n",
    "def read_and_write_first_k_lines(input_file, output_file, num_lines=1000):\n",
    "    try:\n",
    "        with open(input_file, 'r') as infile, open(output_file, 'w') as outfile:\n",
    "            for i in range(num_lines):\n",
    "                line = infile.readline()\n",
    "                if not line:  # End of file reached before 1000 lines\n",
    "                    break\n",
    "                outfile.write(line)\n",
    "        print(f\"Successfully wrote the first {num_lines} lines to {output_file}.\")\n",
    "    except Exception as e:\n",
    "        print(f\"An error occurred: {e}\")\n",
    "\n",
    "# Call the function\n",
    "read_and_write_first_k_lines(input_file_path, output_file_path, k)\n",
    "\n",
    "data_file = output_file_path\n",
    "with open(data_file, 'r') as file:\n",
    "    lines = file.readlines()"
   ]
  },
  {
   "cell_type": "code",
   "execution_count": 3,
   "id": "a44c566d-114f-4c13-bbce-68ead883a61e",
   "metadata": {},
   "outputs": [
    {
     "data": {
      "text/plain": [
       "'ऊती संवर्धन तंत्राचे अनेक उपयोग आहेत. या तंत्राचा उपयोग विशेषकरून जीवशास्त्र व वैद्यकशास्त्रात होतो. वयोवृद्धी, पोषण, लसनिर्मिती, जन्मजात रोगांचे निदान, इंद्रियांचे रोपण, कर्करोग संशोधन व गर्भपोषण या क्षेत्रांत ऊती संवर्धन तंत्र प्रामुख्याने वापरले जाते. पेशींच्या चयापचयावर एखाद्या घटकाचा परिणाम पाहणे, सामान्य किंवा कर्करोगाच्या पेशींवर औषधांचा होणारा परिणाम पाहणे, प्रयोगशाळेत त्वचा तयार करणे इ. बाबी ऊती संवर्धनामुळे शक्य झाल्या आहेत. भाजलेल्या रुग्णाच्या त्वचारोपणासाठी ऊती संवर्धनाद्वारे निर्माण केलेली त्वचा वापरली जाते.\\n'"
      ]
     },
     "execution_count": 3,
     "metadata": {},
     "output_type": "execute_result"
    }
   ],
   "source": [
    "data = lines[0]\n",
    "data"
   ]
  },
  {
   "cell_type": "code",
   "execution_count": 5,
   "id": "2fcd5373-7192-4a01-9404-5cbc02112ba3",
   "metadata": {},
   "outputs": [
    {
     "name": "stdout",
     "output_type": "stream",
     "text": [
      "['ऊ', 'त', 'ी', ' ', 'स', 'ं', 'व', 'र', '्', 'ध', 'न', ' ', 'त', 'ं', 'त', '्', 'र', 'ा', 'च', 'े', ' ', 'अ', 'न', 'े', 'क', ' ', 'उ', 'प', 'य', 'ो', 'ग', ' ', 'आ', 'ह', 'े', 'त', '.', ' ', 'य', 'ा', ' ', 'त', 'ं', 'त', '्', 'र', 'ा', 'च', 'ा', ' ', 'उ', 'प', 'य', 'ो', 'ग', ' ', 'व', 'ि', 'श', 'े', 'ष', 'क', 'र', 'ू', 'न', ' ', 'ज', 'ी', 'व', 'श', 'ा', 'स', '्', 'त', '्', 'र', ' ', 'व', ' ', 'व', 'ै', 'द', '्', 'य', 'क', 'श', 'ा', 'स', '्', 'त', '्', 'र', 'ा', 'त', ' ', 'ह', 'ो', 'त', 'ो', '.', ' ', 'व', 'य', 'ो', 'व', 'ृ', 'द', '्', 'ध', 'ी', ',', ' ', 'प', 'ो', 'ष', 'ण', ',', ' ', 'ल', 'स', 'न', 'ि', 'र', '्', 'म', 'ि', 'त', 'ी', ',', ' ', 'ज', 'न', '्', 'म', 'ज', 'ा', 'त', ' ', 'र', 'ो', 'ग', 'ा', 'ं', 'च', 'े', ' ', 'न', 'ि', 'द', 'ा', 'न', ',', ' ', 'इ', 'ं', 'द', '्', 'र', 'ि', 'य', 'ा', 'ं', 'च', 'े', ' ', 'र', 'ो', 'प', 'ण', ',', ' ', 'क', 'र', '्', 'क', 'र', 'ो', 'ग', ' ', 'स', 'ं', 'श', 'ो', 'ध', 'न', ' ', 'व', ' ', 'ग', 'र', '्', 'भ', 'प', 'ो', 'ष', 'ण', ' ', 'य', 'ा', ' ', 'क', '्', 'ष', 'े', 'त', '्', 'र', 'ा', 'ं', 'त', ' ', 'ऊ', 'त', 'ी', ' ', 'स', 'ं', 'व', 'र', '्', 'ध', 'न', ' ', 'त', 'ं', 'त', '्', 'र', ' ', 'प', '्', 'र', 'ा', 'म', 'ु', 'ख', '्', 'य', 'ा', 'न', 'े', ' ', 'व', 'ा', 'प', 'र', 'ल', 'े', ' ', 'ज', 'ा', 'त', 'े', '.', ' ', 'प', 'े', 'श', 'ी', 'ं', 'च', '्', 'य', 'ा', ' ', 'च', 'य', 'ा', 'प', 'च', 'य', 'ा', 'व', 'र', ' ', 'ए', 'ख', 'ा', 'द', '्', 'य', 'ा', ' ', 'घ', 'ट', 'क', 'ा', 'च', 'ा', ' ', 'प', 'र', 'ि', 'ण', 'ा', 'म', ' ', 'प', 'ा', 'ह', 'ण', 'े', ',', ' ', 'स', 'ा', 'म', 'ा', 'न', '्', 'य', ' ', 'क', 'ि', 'ं', 'व', 'ा', ' ', 'क', 'र', '्', 'क', 'र', 'ो', 'ग', 'ा', 'च', '्', 'य', 'ा', ' ', 'प', 'े', 'श', 'ी', 'ं', 'व', 'र', ' ', 'औ', 'ष', 'ध', 'ा', 'ं', 'च', 'ा', ' ', 'ह', 'ो', 'ण', 'ा', 'र', 'ा', ' ', 'प', 'र', 'ि', 'ण', 'ा', 'म', ' ', 'प', 'ा', 'ह', 'ण', 'े', ',', ' ', 'प', '्', 'र', 'य', 'ो', 'ग', 'श', 'ा', 'ळ', 'े', 'त', ' ', 'त', '्', 'व', 'च', 'ा', ' ', 'त', 'य', 'ा', 'र', ' ', 'क', 'र', 'ण', 'े', ' ', 'इ', '.', ' ', 'ब', 'ा', 'ब', 'ी', ' ', 'ऊ', 'त', 'ी', ' ', 'स', 'ं', 'व', 'र', '्', 'ध', 'न', 'ा', 'म', 'ु', 'ळ', 'े', ' ', 'श', 'क', '्', 'य', ' ', 'झ', 'ा', 'ल', '्', 'य', 'ा', ' ', 'आ', 'ह', 'े', 'त', '.', ' ', 'भ', 'ा', 'ज', 'ल', 'े', 'ल', '्', 'य', 'ा', ' ', 'र', 'ु', 'ग', '्', 'ण', 'ा', 'च', '्', 'य', 'ा', ' ', 'त', '्', 'व', 'च', 'ा', 'र', 'ो', 'प', 'ण', 'ा', 'स', 'ा', 'ठ', 'ी', ' ', 'ऊ', 'त', 'ी', ' ', 'स', 'ं', 'व', 'र', '्', 'ध', 'न', 'ा', 'द', '्', 'व', 'ा', 'र', 'े', ' ', 'न', 'ि', 'र', '्', 'म', 'ा', 'ण', ' ', 'क', 'े', 'ल', 'े', 'ल', 'ी', ' ', 'त', '्', 'व', 'च', 'ा', ' ', 'व', 'ा', 'प', 'र', 'ल', 'ी', ' ', 'ज', 'ा', 'त', 'े', '.', '\\n']\n",
      "528\n"
     ]
    }
   ],
   "source": [
    "# Default tokenizer used, one character at a time\n",
    "tokens = [char for char in data]\n",
    "print(tokens)\n",
    "print(len(tokens))"
   ]
  },
  {
   "cell_type": "code",
   "execution_count": 6,
   "id": "7044c1c8-c994-4f98-b9f0-afe6f89367c8",
   "metadata": {},
   "outputs": [
    {
     "data": {
      "application/vnd.jupyter.widget-view+json": {
       "model_id": "57c6a9658a7f4a97a532cab95edcc741",
       "version_major": 2,
       "version_minor": 0
      },
      "text/plain": [
       "tokenizer_config.json:   0%|          | 0.00/24.6k [00:00<?, ?B/s]"
      ]
     },
     "metadata": {},
     "output_type": "display_data"
    },
    {
     "data": {
      "application/vnd.jupyter.widget-view+json": {
       "model_id": "1626be08e24e4d1e88783d4c346b0f50",
       "version_major": 2,
       "version_minor": 0
      },
      "text/plain": [
       "tokenizer.model:   0%|          | 0.00/1.70M [00:00<?, ?B/s]"
      ]
     },
     "metadata": {},
     "output_type": "display_data"
    },
    {
     "data": {
      "application/vnd.jupyter.widget-view+json": {
       "model_id": "3a5e02c80f4140d79cd4855af8e2d80e",
       "version_major": 2,
       "version_minor": 0
      },
      "text/plain": [
       "tokenizer.json:   0%|          | 0.00/4.54M [00:00<?, ?B/s]"
      ]
     },
     "metadata": {},
     "output_type": "display_data"
    },
    {
     "data": {
      "application/vnd.jupyter.widget-view+json": {
       "model_id": "a4d01486ff01486db3d3dbc8d30c3f62",
       "version_major": 2,
       "version_minor": 0
      },
      "text/plain": [
       "special_tokens_map.json:   0%|          | 0.00/414 [00:00<?, ?B/s]"
      ]
     },
     "metadata": {},
     "output_type": "display_data"
    }
   ],
   "source": [
    "from transformers import AutoModelForCausalLM, AutoTokenizer\n",
    "\n",
    "# model = AutoModelForCausalLM.from_pretrained(\"PrunaAI/sarvamai-sarvam-2b-v0.5-bnb-4bit-smashed\", trust_remote_code=True, device_map='auto')\n",
    "tokenizer = AutoTokenizer.from_pretrained(\"sarvamai/sarvam-2b-v0.5\")\n",
    "\n",
    "# input_ids = tokenizer(\"What is the color of prunes?,\", return_tensors='pt').to(model.device)[\"input_ids\"]"
   ]
  },
  {
   "cell_type": "code",
   "execution_count": 41,
   "id": "d9a64b1a-3a5b-48f8-bfb6-93a5984a257e",
   "metadata": {},
   "outputs": [
    {
     "name": "stdout",
     "output_type": "stream",
     "text": [
      "['▁<', 's', 'os', '>', 'ऊ', 'ती', '▁सं', 'वर्धन', '▁तंत्र', 'ाचे', '▁अनेक', '▁उपयोग', '▁आहेत', '.', '▁या', '▁तंत्र', 'ाचा', '▁उपयोग', '▁विशेष', 'करून', '▁जीव', 'शास्त्र', '▁व', '▁वैद्य', 'क', 'शास्त्र', 'ात', '▁होतो', '.', '▁वय', 'ोव', 'ृद्ध', 'ी', ',', '▁पोषण', ',', '▁ल', 'सन', 'ि', 'र्म', 'िती', ',', '▁जन्म', 'जात', '▁रोग', 'ांचे', '▁निदान', ',', '▁इंद्र', 'िया', 'ंचे', '▁रो', 'पण', ',', '▁कर्करोग', '▁संशोधन', '▁व', '▁गर्भ', 'पो', 'षण', '▁या', '▁क्षेत्र', 'ांत', '▁ऊ', 'ती', '▁सं', 'वर्धन', '▁तंत्र', '▁प्र', 'ामुख्याने', '▁वापरले', '▁जाते', '.', '▁पेशी', 'ंच्या', '▁च', 'या', 'प', 'च', 'या', 'वर', '▁एखाद्या', '▁घट', 'काचा', '▁परिणाम', '▁पाह', 'णे', ',', '▁सामान्य', '▁किंवा', '▁कर्करोग', 'ाच्या', '▁पेशी', 'ंवर', '▁औषध', 'ांचा', '▁हो', 'णारा', '▁परिणाम', '▁पाह', 'णे', ',', '▁प्रयोग', 'शाळे', 'त', '▁त्वचा', '▁तयार', '▁करणे', '▁इ', '.', '▁बा', 'बी', '▁ऊ', 'ती', '▁सं', 'वर्ध', 'नामुळे', '▁शक्य', '▁झाल्या', '▁आहेत', '.', '▁भाज', 'लेल्या', '▁रुग्', 'णाच्या', '▁त्व', 'चार', 'ोप', 'णासाठी', '▁ऊ', 'ती', '▁सं', 'वर्ध', 'ना', 'द्वारे', '▁निर्माण', '▁केलेली', '▁त्वचा', '▁वापरली', '▁जाते', '.', '\\n', '<', 'e', 'os', '>']\n",
      "146\n"
     ]
    }
   ],
   "source": [
    "sos_char = '<sos>'\n",
    "eos_char = '<eos>'\n",
    "data = sos_char + data + eos_char\n",
    "# data = lines[0]\n",
    "tokens = tokenizer.tokenize(data)\n",
    "print(tokens)\n",
    "print(len(tokens))"
   ]
  }
 ],
 "metadata": {
  "kernelspec": {
   "display_name": "Python 3 (ipykernel)",
   "language": "python",
   "name": "python3"
  },
  "language_info": {
   "codemirror_mode": {
    "name": "ipython",
    "version": 3
   },
   "file_extension": ".py",
   "mimetype": "text/x-python",
   "name": "python",
   "nbconvert_exporter": "python",
   "pygments_lexer": "ipython3",
   "version": "3.11.6"
  }
 },
 "nbformat": 4,
 "nbformat_minor": 5
}
