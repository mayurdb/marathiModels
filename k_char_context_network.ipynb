{
 "cells": [
  {
   "cell_type": "code",
   "execution_count": 60,
   "id": "4c3f42ad-a4dd-45d3-be5f-145a4a8adfef",
   "metadata": {},
   "outputs": [],
   "source": [
    "# A simple predict the next character by looking at last k characters"
   ]
  },
  {
   "cell_type": "code",
   "execution_count": 1,
   "id": "7b37491f-6153-4cd3-abfe-ec4eaec70ccd",
   "metadata": {},
   "outputs": [
    {
     "name": "stdout",
     "output_type": "stream",
     "text": [
      "--2024-07-08 16:08:50--  https://objectstore.e2enetworks.net/ai4b-public-nlu-nlg/indic-corp-frozen-for-the-paper-oct-2022/mr.txt\n",
      "Resolving objectstore.e2enetworks.net (objectstore.e2enetworks.net)... 164.52.210.97, 101.53.152.33, 164.52.206.154, ...\n",
      "Connecting to objectstore.e2enetworks.net (objectstore.e2enetworks.net)|164.52.210.97|:443... connected.\n",
      "HTTP request sent, awaiting response... 200 OK\n",
      "Length: 14553660884 (14G) [text/plain]\n",
      "Saving to: ‘mr.txt’\n",
      "\n",
      "mr.txt                0%[                    ]       0  --.-KB/s               ^C\n"
     ]
    }
   ],
   "source": [
    "!wget https://objectstore.e2enetworks.net/ai4b-public-nlu-nlg/indic-corp-frozen-for-the-paper-oct-2022/mr.txt"
   ]
  },
  {
   "cell_type": "code",
   "execution_count": 2,
   "id": "bbf3ef6a-e2ee-40c2-ac98-b9541bd76dcf",
   "metadata": {},
   "outputs": [
    {
     "name": "stdout",
     "output_type": "stream",
     "text": [
      "Successfully wrote the first 50000 lines to ./data/mr_50000.txt.\n"
     ]
    }
   ],
   "source": [
    "# Load the dataset\n",
    "\n",
    "k = 50000\n",
    "input_file_path = './data/mr.txt'\n",
    "output_file_path = f\"./data/mr_{k}.txt\"\n",
    "\n",
    "# Function to read the first k lines from the input file and write them to the output file\n",
    "def read_and_write_first_k_lines(input_file, output_file, num_lines=1000):\n",
    "    try:\n",
    "        with open(input_file, 'r') as infile, open(output_file, 'w') as outfile:\n",
    "            for i in range(num_lines):\n",
    "                line = infile.readline()\n",
    "                if not line:  # End of file reached before 1000 lines\n",
    "                    break\n",
    "                outfile.write(line)\n",
    "        print(f\"Successfully wrote the first {num_lines} lines to {output_file}.\")\n",
    "    except Exception as e:\n",
    "        print(f\"An error occurred: {e}\")\n",
    "\n",
    "# Call the function\n",
    "read_and_write_first_k_lines(input_file_path, output_file_path, k)\n",
    "\n",
    "data_file = output_file_path\n",
    "with open(data_file, 'r') as file:\n",
    "    lines = file.readlines()"
   ]
  },
  {
   "cell_type": "code",
   "execution_count": 55,
   "id": "c7116460-8297-4a82-9264-1dfce33fa628",
   "metadata": {},
   "outputs": [
    {
     "name": "stdout",
     "output_type": "stream",
     "text": [
      "335\n"
     ]
    }
   ],
   "source": [
    "# Let's build a vocabulary\n",
    "context = 3\n",
    "vocab = set()\n",
    "for line in lines:\n",
    "    if line.strip() != \"\":\n",
    "        # words = line.split(\" \")\n",
    "        # Remove blank words\n",
    "        # words = [word.strip() for word in words if word.strip() != \"\" ]\n",
    "        line = '<sos>' + line.strip() + '<eos>'\n",
    "        for ch in line:\n",
    "            vocab.add(ch)\n",
    "vocab = list(vocab)\n",
    "vocab_size = len(vocab)\n",
    "print(vocab_size)"
   ]
  },
  {
   "cell_type": "code",
   "execution_count": 30,
   "id": "f4c7756f-565b-48d4-a67d-56b4c876f791",
   "metadata": {},
   "outputs": [
    {
     "name": "stdout",
     "output_type": "stream",
     "text": [
      "216\n"
     ]
    }
   ],
   "source": [
    "word_to_i = {word: i for i, word in enumerate(vocab)}\n",
    "i_to_word = {i: word for word, i in word_to_i.items()}\n",
    "print(word_to_i['.'])"
   ]
  },
  {
   "cell_type": "code",
   "execution_count": 47,
   "id": "53c4c4af-490a-4a41-bbce-ad49c3df96fb",
   "metadata": {
    "scrolled": true
   },
   "outputs": [
    {
     "name": "stdout",
     "output_type": "stream",
     "text": [
      "ऊती संवर्धन तंत्राचे अनेक उपयोग आहेत. या तंत्राचा उपयोग विशेषकरून जीवशास्त्र व वैद्यकशास्त्रात होतो. वयोवृद्धी, पोषण, लसनिर्मिती, जन्मजात रोगांचे निदान, इंद्रियांचे रोपण, कर्करोग संशोधन व गर्भपोषण या क्षेत्रांत ऊती संवर्धन तंत्र प्रामुख्याने वापरले जाते. पेशींच्या चयापचयावर एखाद्या घटकाचा परिणाम पाहणे, सामान्य किंवा कर्करोगाच्या पेशींवर औषधांचा होणारा परिणाम पाहणे, प्रयोगशाळेत त्वचा तयार करणे इ. बाबी ऊती संवर्धनामुळे शक्य झाल्या आहेत. भाजलेल्या रुग्णाच्या त्वचारोपणासाठी ऊती संवर्धनाद्वारे निर्माण केलेली त्वचा वापरली जाते.\n",
      "\n",
      "7132887\n"
     ]
    }
   ],
   "source": [
    "# Let's get the training dataset\n",
    "from collections import deque\n",
    "\n",
    "xs = []\n",
    "ys = []\n",
    "\n",
    "def get_queue():\n",
    "    qu = deque(maxlen=context)\n",
    "    for _ in range(context):\n",
    "        qu.append('.')\n",
    "    return qu\n",
    "\n",
    "for line in lines:\n",
    "    qu = get_queue()\n",
    "    if line.strip() != \"\":\n",
    "        line = line.strip()\n",
    "        qu.append(line[0])\n",
    "        for ch in line[1:]:\n",
    "            xs.append(list(qu))\n",
    "            ys.append(ch)\n",
    "            qu.append(ch)\n",
    "print(lines[0])\n",
    "print(len(xs))\n",
    "# for x, y in zip(xs, ys):\n",
    "#     print(x, y)"
   ]
  },
  {
   "cell_type": "code",
   "execution_count": 51,
   "id": "c0baf152-8095-4f43-a8ff-15a51310c4b0",
   "metadata": {},
   "outputs": [],
   "source": [
    "import torch\n",
    "\n",
    "xs_enc = []\n",
    "ys_enc = []\n",
    "for inp, out in zip(xs, ys):\n",
    "    temp = []\n",
    "    for i in inp:\n",
    "        temp.append(word_to_i[i])\n",
    "    xs_enc.append(temp)\n",
    "    ys_enc.append(word_to_i[out])\n",
    "xs_enc = torch.tensor(xs_enc)\n",
    "ys_enc = torch.tensor(ys_enc)"
   ]
  },
  {
   "cell_type": "code",
   "execution_count": 50,
   "id": "8e151f5a-71f7-4e4c-bcc4-e6ac96d85d39",
   "metadata": {},
   "outputs": [
    {
     "name": "stdout",
     "output_type": "stream",
     "text": [
      "torch.Size([7132887, 3])\n",
      "torch.Size([7132887])\n"
     ]
    }
   ],
   "source": [
    "print(xs_enc.shape)\n",
    "print(ys_enc.shape)\n",
    "num_examples = len(xs)"
   ]
  },
  {
   "cell_type": "code",
   "execution_count": 57,
   "id": "b449096a-328d-4ea4-a4f4-34f4839d7f11",
   "metadata": {},
   "outputs": [],
   "source": [
    "import torch.nn.functional as F\n",
    "\n",
    "w = torch.randn((vocab_size, vocab_size), requires_grad=True)\n",
    "xs_one_hot = F.one_hot(xs_enc, num_classes=vocab_size).float()"
   ]
  },
  {
   "cell_type": "code",
   "execution_count": 58,
   "id": "3b75bd3f-37a7-49e1-8e4e-170939763cfc",
   "metadata": {},
   "outputs": [
    {
     "data": {
      "text/plain": [
       "torch.Size([7132887, 3, 335])"
      ]
     },
     "execution_count": 58,
     "metadata": {},
     "output_type": "execute_result"
    }
   ],
   "source": [
    "# This should be 7132887 * 3 * 335\n",
    "xs_one_hot.shape"
   ]
  }
 ],
 "metadata": {
  "kernelspec": {
   "display_name": "Python 3 (ipykernel)",
   "language": "python",
   "name": "python3"
  },
  "language_info": {
   "codemirror_mode": {
    "name": "ipython",
    "version": 3
   },
   "file_extension": ".py",
   "mimetype": "text/x-python",
   "name": "python",
   "nbconvert_exporter": "python",
   "pygments_lexer": "ipython3",
   "version": "3.11.6"
  }
 },
 "nbformat": 4,
 "nbformat_minor": 5
}
